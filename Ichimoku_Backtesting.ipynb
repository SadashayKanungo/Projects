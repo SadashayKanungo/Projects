{
 "cells": [
  {
   "cell_type": "code",
   "execution_count": 1,
   "metadata": {},
   "outputs": [],
   "source": [
    "#Importing required libraries\n",
    "import pandas as pd\n",
    "import numpy as np\n",
    "from pandas_datareader import data\n",
    "import requests\n",
    "from math import sqrt\n",
    "import matplotlib.pyplot as plt\n",
    "plt.style.use('seaborn-whitegrid')\n",
    "%matplotlib inline"
   ]
  },
  {
   "cell_type": "code",
   "execution_count": 13,
   "metadata": {},
   "outputs": [],
   "source": [
    "portfolio = 1e5 #Portfolio total worth of 1 lakh\n",
    "tscost = 0.005 #Per trade transaction cost of 0.5%, so if two stocks of 30 each are bought, (1+0.005)*2*30 is charged in total\n",
    "nstocks = 0\n",
    "\n",
    "stock_list = ['BHEL.NS','ITC.NS','LUPIN.NS','RELIANCE.NS','IBVENTURES.NS'] #Stock list, to add a stock simply\n",
    "                                                                           #add the ticker according to Yahoo! Finance\n",
    "for stock in stock_list:\n",
    "    nstocks+=1          #Calculates number of stocks according to input stock list"
   ]
  },
  {
   "cell_type": "code",
   "execution_count": 14,
   "metadata": {},
   "outputs": [],
   "source": [
    "#Function to read Data\n",
    "def readData(ticker, n):\n",
    "    stocks.append(data.DataReader(ticker, 'yahoo',start='1/1/2015')) #Taking backtesting period as roughly 5 years"
   ]
  },
  {
   "cell_type": "code",
   "execution_count": 15,
   "metadata": {},
   "outputs": [],
   "source": [
    "def make_ichimoku(x):\n",
    "    nine_avg = (x['High'].rolling(window=9).max() + x['Low'].rolling(window=9).min())/2\n",
    "    twentysix_avg = (x['High'].rolling(window=26).max() + x['Low'].rolling(window=26).min())/2\n",
    "    fiftytwo_avg = (x['High'].rolling(window=52).max() + x['Low'].rolling(window=52).min())/2\n",
    "    \n",
    "    x['conversion'] = nine_avg\n",
    "    x['base'] = twentysix_avg\n",
    "    x['leading_a'] = ((nine_avg + twentysix_avg)/2).shift(26)\n",
    "    x['leading_b'] = (fiftytwo_avg).shift(26)\n",
    "    # Lagging is not calculated separetely.\n",
    "    \n",
    "    x['position'] = 0\n",
    "    "
   ]
  },
  {
   "cell_type": "code",
   "execution_count": 19,
   "metadata": {},
   "outputs": [],
   "source": [
    "def strategy_ichimoku(x):\n",
    "    for row in range(len(x)):\n",
    "        if (x['position'].iloc[row-1] == 0):\n",
    "            if (x['conversion'].iloc[row-1] <= x['base'].iloc[row-1]) and  (x['conversion'].iloc[row] > x['base'].iloc[row]) and (x['Adj Close'].iloc[row] > max(x['leading_a'].iloc[row],x['leading_b'].iloc[row])) and (x['Adj Close'].iloc[row] > max(x['leading_a'].iloc[row-26],x['leading_b'].iloc[row-26])):\n",
    "                x['position'].iloc[row] = 1\n",
    "            if (x['conversion'].iloc[row-1] >= x['base'].iloc[row-1]) and  (x['conversion'].iloc[row] < x['base'].iloc[row]) and (x['Adj Close'].iloc[row] < min(x['leading_a'].iloc[row],x['leading_b'].iloc[row])) and (x['Adj Close'].iloc[row] < min(x['leading_a'].iloc[row-26],x['leading_b'].iloc[row-26])):\n",
    "                x['position'].iloc[row] = -1\n",
    "        \n",
    "        elif (x['position'].iloc[row-1] == 1):\n",
    "            if(x['Adj Close'].iloc[row-1] > max(x['leading_a'].iloc[row],x['leading_b'].iloc[row]) and (x['Adj Close'].iloc[row] <= max(x['leading_a'].iloc[row],x['leading_b'].iloc[row]))):\n",
    "               x['position'].iloc[row] = 0\n",
    "            else :\n",
    "               x['position'].iloc[row] = 1\n",
    "        \n",
    "        else :\n",
    "            if(x['Adj Close'].iloc[row-1] < min(x['leading_a'].iloc[row],x['leading_b'].iloc[row]) and (x['Adj Close'].iloc[row] >= min(x['leading_a'].iloc[row],x['leading_b'].iloc[row]))):\n",
    "               x['position'].iloc[row] = 0\n",
    "            else :\n",
    "               x['position'].iloc[row] = -1"
   ]
  },
  {
   "cell_type": "code",
   "execution_count": 20,
   "metadata": {},
   "outputs": [
    {
     "name": "stderr",
     "output_type": "stream",
     "text": [
      "C:\\Users\\sadas\\Anaconda3\\lib\\site-packages\\pandas\\core\\indexing.py:190: SettingWithCopyWarning: \n",
      "A value is trying to be set on a copy of a slice from a DataFrame\n",
      "\n",
      "See the caveats in the documentation: http://pandas.pydata.org/pandas-docs/stable/indexing.html#indexing-view-versus-copy\n",
      "  self._setitem_with_indexer(indexer, value)\n",
      "C:\\Users\\sadas\\Anaconda3\\lib\\site-packages\\pandas\\core\\indexing.py:190: SettingWithCopyWarning: \n",
      "A value is trying to be set on a copy of a slice from a DataFrame\n",
      "\n",
      "See the caveats in the documentation: http://pandas.pydata.org/pandas-docs/stable/indexing.html#indexing-view-versus-copy\n",
      "  self._setitem_with_indexer(indexer, value)\n",
      "C:\\Users\\sadas\\Anaconda3\\lib\\site-packages\\pandas\\core\\indexing.py:190: SettingWithCopyWarning: \n",
      "A value is trying to be set on a copy of a slice from a DataFrame\n",
      "\n",
      "See the caveats in the documentation: http://pandas.pydata.org/pandas-docs/stable/indexing.html#indexing-view-versus-copy\n",
      "  self._setitem_with_indexer(indexer, value)\n",
      "C:\\Users\\sadas\\Anaconda3\\lib\\site-packages\\pandas\\core\\indexing.py:190: SettingWithCopyWarning: \n",
      "A value is trying to be set on a copy of a slice from a DataFrame\n",
      "\n",
      "See the caveats in the documentation: http://pandas.pydata.org/pandas-docs/stable/indexing.html#indexing-view-versus-copy\n",
      "  self._setitem_with_indexer(indexer, value)\n",
      "C:\\Users\\sadas\\Anaconda3\\lib\\site-packages\\pandas\\core\\indexing.py:190: SettingWithCopyWarning: \n",
      "A value is trying to be set on a copy of a slice from a DataFrame\n",
      "\n",
      "See the caveats in the documentation: http://pandas.pydata.org/pandas-docs/stable/indexing.html#indexing-view-versus-copy\n",
      "  self._setitem_with_indexer(indexer, value)\n"
     ]
    }
   ],
   "source": [
    "#Iterating over all the tickers to read data, generate Bollinger Bands and formulate portfolio positions based on strategy\n",
    "i = 0\n",
    "stocks = []\n",
    "for ticker in stock_list:\n",
    "    readData(ticker,i)\n",
    "    make_ichimoku(stocks[i])\n",
    "    strategy_ichimoku(stocks[i])\n",
    "    i+=1"
   ]
  },
  {
   "cell_type": "code",
   "execution_count": 23,
   "metadata": {},
   "outputs": [
    {
     "data": {
      "text/plain": [
       "<matplotlib.axes._subplots.AxesSubplot at 0x208954d3f98>"
      ]
     },
     "execution_count": 23,
     "metadata": {},
     "output_type": "execute_result"
    },
    {
     "data": {
      "image/png": "[encoded data removed]",
      "text/plain": [
       "<Figure size 432x288 with 1 Axes>"
      ]
     },
     "metadata": {
      "needs_background": "light"
     },
     "output_type": "display_data"
    }
   ],
   "source": [
    "s = (len(stocks[0]),nstocks) #setting the dimensions of the weights vector depending on the available data points\n",
    "weights = np.zeros(s) \n",
    "\n",
    "\n",
    "for row in range(len(stocks[0])):\n",
    "    i = 0\n",
    "    sumwts = 0\n",
    "    for i in range(nstocks):\n",
    "        sumwts+=np.abs(stocks[i]['position'].iloc[row]) #checking how many positions were taken on that day\n",
    "    for i in range(nstocks):\n",
    "        if sumwts>0:\n",
    "            #weights assigned as:\n",
    "            #weights = (portfolio*position)/(no.of positions * adj close on that day * (1+transac cost))\n",
    "            weights[row][i]=(portfolio*stocks[i]['position'].iloc[row])/((sumwts*stocks[i]['Adj Close'].iloc[row])*(1+tscost))\n",
    "        else:\n",
    "            weights[row][i]=0\n",
    "i = 0\n",
    "\n",
    "\n",
    "for i in range(nstocks):\n",
    "    stocks[i]['Market Return'] = (stocks[i]['Adj Close'] - stocks[i]['Adj Close'].shift(1)) #Absolute market return\n",
    "\n",
    "    \n",
    "#Calculating portfolio return\n",
    "stocks[0]['Strategy Return']=0\n",
    "i = 0\n",
    "for i in range(nstocks):\n",
    "    stocks[0]['Strategy Return']+=stocks[i]['Market Return'] * weights[:,i] #multiplying market return of each\n",
    "                                                                            #ticker with its weight\n",
    "stocks[0]['Strategy Return'][64:].cumsum().plot() #Plotting strategy return"
   ]
  }
 ],
 "metadata": {
  "kernelspec": {
   "display_name": "Python 3",
   "language": "python",
   "name": "python3"
  },
  "language_info": {
   "codemirror_mode": {
    "name": "ipython",
    "version": 3
   },
   "file_extension": ".py",
   "mimetype": "text/x-python",
   "name": "python",
   "nbconvert_exporter": "python",
   "pygments_lexer": "ipython3",
   "version": "3.7.3"
  }
 },
 "nbformat": 4,
 "nbformat_minor": 2
}
